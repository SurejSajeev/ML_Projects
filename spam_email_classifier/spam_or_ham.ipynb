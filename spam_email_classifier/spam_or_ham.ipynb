{
 "cells": [
  {
   "cell_type": "code",
   "execution_count": 16,
   "metadata": {},
   "outputs": [],
   "source": [
    "import numpy as np\n",
    "import pandas as pd"
   ]
  },
  {
   "cell_type": "markdown",
   "metadata": {},
   "source": [
    "The below function is to batch the large 500K rows emails.csv file to 10K chunks. "
   ]
  },
  {
   "cell_type": "code",
   "execution_count": 30,
   "metadata": {},
   "outputs": [],
   "source": [
    "def get_data_chunk(data_path, chunk_size, seed=10):\n",
    "  \"\"\"\n",
    "  Generator function that reads a CSV file in chunks and yields each chunk.\n",
    "\n",
    "  Parameters:\n",
    "  - data_path (str): The path to the CSV file.\n",
    "  - chunk_size (int): The number of rows to read per chunk.\n",
    "  - seed (int): The random seed to use for shuffling the data. If None, no shuffling is performed.\n",
    "\n",
    "  Yields:\n",
    "  - pd.DataFrame: A chunk of data read from the CSV file.\n",
    "\n",
    "  \"\"\"\n",
    "  if seed:\n",
    "    np.random.seed(seed)\n",
    "  for chunk in pd.read_csv(data_path, chunksize=chunk_size):\n",
    "    if seed:\n",
    "      chunk = chunk.sample(frac=1, random_state=seed)\n",
    "    yield chunk.copy()\n"
   ]
  },
  {
   "cell_type": "code",
   "execution_count": 31,
   "metadata": {},
   "outputs": [],
   "source": [
    "for  batch in get_data_chunk('data/emails.csv', 1000, 42):\n",
    "    sample_email_df = batch\n",
    "    break"
   ]
  },
  {
   "cell_type": "code",
   "execution_count": 32,
   "metadata": {},
   "outputs": [
    {
     "data": {
      "text/html": [
       "<div>\n",
       "<style scoped>\n",
       "    .dataframe tbody tr th:only-of-type {\n",
       "        vertical-align: middle;\n",
       "    }\n",
       "\n",
       "    .dataframe tbody tr th {\n",
       "        vertical-align: top;\n",
       "    }\n",
       "\n",
       "    .dataframe thead th {\n",
       "        text-align: right;\n",
       "    }\n",
       "</style>\n",
       "<table border=\"1\" class=\"dataframe\">\n",
       "  <thead>\n",
       "    <tr style=\"text-align: right;\">\n",
       "      <th></th>\n",
       "      <th>file</th>\n",
       "      <th>message</th>\n",
       "    </tr>\n",
       "  </thead>\n",
       "  <tbody>\n",
       "    <tr>\n",
       "      <th>521</th>\n",
       "      <td>allen-p/_sent_mail/573.</td>\n",
       "      <td>Message-ID: &lt;26191240.1075855728775.JavaMail.e...</td>\n",
       "    </tr>\n",
       "    <tr>\n",
       "      <th>737</th>\n",
       "      <td>allen-p/all_documents/223.</td>\n",
       "      <td>Message-ID: &lt;28548545.1075855670363.JavaMail.e...</td>\n",
       "    </tr>\n",
       "    <tr>\n",
       "      <th>740</th>\n",
       "      <td>allen-p/all_documents/226.</td>\n",
       "      <td>Message-ID: &lt;2726020.1075855670427.JavaMail.ev...</td>\n",
       "    </tr>\n",
       "    <tr>\n",
       "      <th>660</th>\n",
       "      <td>allen-p/all_documents/153.</td>\n",
       "      <td>Message-ID: &lt;31941463.1075855668856.JavaMail.e...</td>\n",
       "    </tr>\n",
       "    <tr>\n",
       "      <th>411</th>\n",
       "      <td>allen-p/_sent_mail/473.</td>\n",
       "      <td>Message-ID: &lt;30625995.1075855726460.JavaMail.e...</td>\n",
       "    </tr>\n",
       "  </tbody>\n",
       "</table>\n",
       "</div>"
      ],
      "text/plain": [
       "                           file  \\\n",
       "521     allen-p/_sent_mail/573.   \n",
       "737  allen-p/all_documents/223.   \n",
       "740  allen-p/all_documents/226.   \n",
       "660  allen-p/all_documents/153.   \n",
       "411     allen-p/_sent_mail/473.   \n",
       "\n",
       "                                               message  \n",
       "521  Message-ID: <26191240.1075855728775.JavaMail.e...  \n",
       "737  Message-ID: <28548545.1075855670363.JavaMail.e...  \n",
       "740  Message-ID: <2726020.1075855670427.JavaMail.ev...  \n",
       "660  Message-ID: <31941463.1075855668856.JavaMail.e...  \n",
       "411  Message-ID: <30625995.1075855726460.JavaMail.e...  "
      ]
     },
     "execution_count": 32,
     "metadata": {},
     "output_type": "execute_result"
    }
   ],
   "source": [
    "sample_email_df.head()"
   ]
  },
  {
   "cell_type": "code",
   "execution_count": 34,
   "metadata": {},
   "outputs": [
    {
     "data": {
      "text/plain": [
       "\"Message-ID: <18782981.1075855378110.JavaMail.evans@thyme>\\nDate: Mon, 14 May 2001 16:39:00 -0700 (PDT)\\nFrom: phillip.allen@enron.com\\nTo: tim.belden@enron.com\\nSubject: \\nMime-Version: 1.0\\nContent-Type: text/plain; charset=us-ascii\\nContent-Transfer-Encoding: 7bit\\nX-From: Phillip K Allen\\nX-To: Tim Belden <Tim Belden/Enron@EnronXGate>\\nX-cc: \\nX-bcc: \\nX-Folder: \\\\Phillip_Allen_Jan2002_1\\\\Allen, Phillip K.\\\\'Sent Mail\\nX-Origin: Allen-P\\nX-FileName: pallen (Non-Privileged).pst\\n\\nHere is our forecast\\n\\n \""
      ]
     },
     "execution_count": 34,
     "metadata": {},
     "output_type": "execute_result"
    }
   ],
   "source": [
    "sample_email_df['message'][0]"
   ]
  },
  {
   "cell_type": "code",
   "execution_count": null,
   "metadata": {},
   "outputs": [],
   "source": []
  }
 ],
 "metadata": {
  "kernelspec": {
   "display_name": "mlenv",
   "language": "python",
   "name": "python3"
  },
  "language_info": {
   "codemirror_mode": {
    "name": "ipython",
    "version": 3
   },
   "file_extension": ".py",
   "mimetype": "text/x-python",
   "name": "python",
   "nbconvert_exporter": "python",
   "pygments_lexer": "ipython3",
   "version": "3.12.2"
  }
 },
 "nbformat": 4,
 "nbformat_minor": 2
}
